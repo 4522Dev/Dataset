{
 "cells": [
  {
   "cell_type": "markdown",
   "id": "7b64f918",
   "metadata": {
    "papermill": {
     "duration": 0.006588,
     "end_time": "2024-05-18T00:56:07.016017",
     "exception": false,
     "start_time": "2024-05-18T00:56:07.009429",
     "status": "completed"
    },
    "tags": []
   },
   "source": [
    "# <font color = red >Important!</font>\n",
    "\n",
    "### <font color = red >When you make a copy of this notebook, share/save it as \"Public\", not Private.</font>\n",
    "### For this Project, you need to create your own copy and share it. It is the shared link/url that would be submitted in canvas. To do this, implement the following steps:\n",
    "\n",
    "1. **Log In to Kaggle:** First, ensure you are logged into your Kaggle account. If you don’t have an account, you will need to create one.\n",
    "2. **Find the Notebook:** Navigate to this notebook. You can find notebooks by browsing the \"Code\" section or by searching for specific topics or datasets.In this case, search for \"CSIS -126_Project 2 - Cstick Fall Prediction\"\n",
    "3. **Copy the Notebook:** Once you are on the notebook page, look for the \"Copy and Edit\" button, usually located at the top right of the notebook. Clicking this button creates a copy of the notebook in your account, which you can then edit and modify.\n",
    "4. **Edit Your Notebook:** copying, you’ll be taken to a new instance of the notebook under your account. Here, you can make any changes or additions to the notebook.\n",
    "5. **Save Your Changes:** As you work, make sure to save your changes by clicking the \"Save Version\" button. This will also run all the code cells in the notebook.\n",
    "6. **Submit your notebook:** To submit your notebook, simply copy the URL from your browser when viewing your notebook and paste it in the corresponding assignment in Canvas. "
   ]
  },
  {
   "cell_type": "markdown",
   "id": "982f0132",
   "metadata": {
    "papermill": {
     "duration": 0.005967,
     "end_time": "2024-05-18T00:56:07.028417",
     "exception": false,
     "start_time": "2024-05-18T00:56:07.022450",
     "status": "completed"
    },
    "tags": []
   },
   "source": [
    "# **Introduction**\n",
    "## Objective:\n",
    "This Project involves applying supervised learning techniques, specifically **Logistic Regression** and **Support Vector Machines** (SVM), to the C-stick Fall Prediction Dataset. You can read about the dataset [here](https://www.kaggle.com/datasets/laavanya/elderly-fall-prediction-and-detection). You will then perform predictions On the data using each model, then finally you will compare the performance of these two algorithms and interpret their efficacy in making predictions based on the data."
   ]
  },
  {
   "cell_type": "markdown",
   "id": "3dbaf388",
   "metadata": {
    "papermill": {
     "duration": 0.006167,
     "end_time": "2024-05-18T00:56:07.040569",
     "exception": false,
     "start_time": "2024-05-18T00:56:07.034402",
     "status": "completed"
    },
    "tags": []
   },
   "source": [
    "## Steps\n",
    "This Project is divided into 2 parts: **Section 1** and **Section 2**. Section 1 is implemented for you, and it involves loading the data, loading the necessary libraries and the separation of the data in features (inputs/attributes/Predictor variables) and labels (output/target/Predicted variables). You will implement Section 2, and it involves the following tasks:\n",
    "1. Split the data into training sets and test sets\n",
    "2. Implement the SVM Model\n",
    "3. Implement predictions on the SVM model using an accuracy metric\n",
    "4. Implement the Log Reg Model\n",
    "5. Implement predictions on the Log Reg Model an accuracy metric\n",
    "6. Answer Questions on your work"
   ]
  },
  {
   "cell_type": "markdown",
   "id": "ab1bd25b",
   "metadata": {
    "papermill": {
     "duration": 0.005596,
     "end_time": "2024-05-18T00:56:07.052227",
     "exception": false,
     "start_time": "2024-05-18T00:56:07.046631",
     "status": "completed"
    },
    "tags": []
   },
   "source": [
    "# **Section 1**\n",
    "### Load Libraries, Data and separate data into features and labels"
   ]
  },
  {
   "cell_type": "code",
   "execution_count": 1,
   "id": "b87f3255",
   "metadata": {
    "_cell_guid": "b1076dfc-b9ad-4769-8c92-a6c4dae69d19",
    "_uuid": "8f2839f25d086af736a60e9eeb907d3b93b6e0e5",
    "execution": {
     "iopub.execute_input": "2024-05-18T00:56:07.066425Z",
     "iopub.status.busy": "2024-05-18T00:56:07.065675Z",
     "iopub.status.idle": "2024-05-18T00:56:07.895113Z",
     "shell.execute_reply": "2024-05-18T00:56:07.894276Z"
    },
    "papermill": {
     "duration": 0.840209,
     "end_time": "2024-05-18T00:56:07.898248",
     "exception": false,
     "start_time": "2024-05-18T00:56:07.058039",
     "status": "completed"
    },
    "tags": []
   },
   "outputs": [
    {
     "name": "stdout",
     "output_type": "stream",
     "text": [
      "/kaggle/input/cStick.csv\n",
      "/kaggle/input/IFIP-IoT_2021_cStick-Elderly-Fall-Prediction.pdf\n",
      "/kaggle/input/readme.docx\n"
     ]
    }
   ],
   "source": [
    "# This Python 3 environment comes with many helpful analytics libraries installed\n",
    "# It is defined by the kaggle/python Docker image: https://github.com/kaggle/docker-python\n",
    "# For example, here's several helpful packages to load\n",
    "\n",
    "import numpy as np # linear algebra\n",
    "import pandas as pd # data processing, CSV file I/O (e.g. pd.read_csv)\n",
    "\n",
    "# Input data files are available in the read-only \"../input/\" directory\n",
    "# For example, running this (by clicking run or pressing Shift+Enter) will list all files under the input directory\n",
    "\n",
    "import os\n",
    "for dirname, _, filenames in os.walk('/kaggle/input'):\n",
    "    for filename in filenames:\n",
    "        print(os.path.join(dirname, filename))\n",
    "\n",
    "# You can write up to 20GB to the current directory (/kaggle/working/) that gets preserved as output when you create a version using \"Save & Run All\" \n",
    "# You can also write temporary files to /kaggle/temp/, but they won't be saved outside of the current session"
   ]
  },
  {
   "cell_type": "code",
   "execution_count": 2,
   "id": "35fcc175",
   "metadata": {
    "execution": {
     "iopub.execute_input": "2024-05-18T00:56:07.913427Z",
     "iopub.status.busy": "2024-05-18T00:56:07.912645Z",
     "iopub.status.idle": "2024-05-18T00:56:07.961407Z",
     "shell.execute_reply": "2024-05-18T00:56:07.960240Z"
    },
    "papermill": {
     "duration": 0.059045,
     "end_time": "2024-05-18T00:56:07.963556",
     "exception": false,
     "start_time": "2024-05-18T00:56:07.904511",
     "status": "completed"
    },
    "tags": []
   },
   "outputs": [
    {
     "data": {
      "text/html": [
       "<div>\n",
       "<style scoped>\n",
       "    .dataframe tbody tr th:only-of-type {\n",
       "        vertical-align: middle;\n",
       "    }\n",
       "\n",
       "    .dataframe tbody tr th {\n",
       "        vertical-align: top;\n",
       "    }\n",
       "\n",
       "    .dataframe thead th {\n",
       "        text-align: right;\n",
       "    }\n",
       "</style>\n",
       "<table border=\"1\" class=\"dataframe\">\n",
       "  <thead>\n",
       "    <tr style=\"text-align: right;\">\n",
       "      <th></th>\n",
       "      <th>Distance</th>\n",
       "      <th>Pressure</th>\n",
       "      <th>HRV</th>\n",
       "      <th>Sugar level</th>\n",
       "      <th>SpO2</th>\n",
       "      <th>Accelerometer</th>\n",
       "      <th>Decision</th>\n",
       "    </tr>\n",
       "  </thead>\n",
       "  <tbody>\n",
       "    <tr>\n",
       "      <th>0</th>\n",
       "      <td>25.540</td>\n",
       "      <td>1.0</td>\n",
       "      <td>101.396</td>\n",
       "      <td>61.080</td>\n",
       "      <td>87.770</td>\n",
       "      <td>1.0</td>\n",
       "      <td>1</td>\n",
       "    </tr>\n",
       "    <tr>\n",
       "      <th>1</th>\n",
       "      <td>2.595</td>\n",
       "      <td>2.0</td>\n",
       "      <td>110.190</td>\n",
       "      <td>20.207</td>\n",
       "      <td>65.190</td>\n",
       "      <td>1.0</td>\n",
       "      <td>2</td>\n",
       "    </tr>\n",
       "    <tr>\n",
       "      <th>2</th>\n",
       "      <td>68.067</td>\n",
       "      <td>0.0</td>\n",
       "      <td>87.412</td>\n",
       "      <td>79.345</td>\n",
       "      <td>99.345</td>\n",
       "      <td>0.0</td>\n",
       "      <td>0</td>\n",
       "    </tr>\n",
       "    <tr>\n",
       "      <th>3</th>\n",
       "      <td>13.090</td>\n",
       "      <td>1.0</td>\n",
       "      <td>92.266</td>\n",
       "      <td>36.180</td>\n",
       "      <td>81.545</td>\n",
       "      <td>1.0</td>\n",
       "      <td>1</td>\n",
       "    </tr>\n",
       "    <tr>\n",
       "      <th>4</th>\n",
       "      <td>69.430</td>\n",
       "      <td>0.0</td>\n",
       "      <td>89.480</td>\n",
       "      <td>80.000</td>\n",
       "      <td>99.990</td>\n",
       "      <td>0.0</td>\n",
       "      <td>0</td>\n",
       "    </tr>\n",
       "    <tr>\n",
       "      <th>...</th>\n",
       "      <td>...</td>\n",
       "      <td>...</td>\n",
       "      <td>...</td>\n",
       "      <td>...</td>\n",
       "      <td>...</td>\n",
       "      <td>...</td>\n",
       "      <td>...</td>\n",
       "    </tr>\n",
       "    <tr>\n",
       "      <th>2034</th>\n",
       "      <td>5.655</td>\n",
       "      <td>2.0</td>\n",
       "      <td>116.310</td>\n",
       "      <td>162.242</td>\n",
       "      <td>71.310</td>\n",
       "      <td>1.0</td>\n",
       "      <td>2</td>\n",
       "    </tr>\n",
       "    <tr>\n",
       "      <th>2035</th>\n",
       "      <td>9.660</td>\n",
       "      <td>2.0</td>\n",
       "      <td>124.320</td>\n",
       "      <td>177.995</td>\n",
       "      <td>79.320</td>\n",
       "      <td>1.0</td>\n",
       "      <td>2</td>\n",
       "    </tr>\n",
       "    <tr>\n",
       "      <th>2036</th>\n",
       "      <td>15.220</td>\n",
       "      <td>1.0</td>\n",
       "      <td>93.828</td>\n",
       "      <td>40.440</td>\n",
       "      <td>82.610</td>\n",
       "      <td>1.0</td>\n",
       "      <td>1</td>\n",
       "    </tr>\n",
       "    <tr>\n",
       "      <th>2037</th>\n",
       "      <td>9.120</td>\n",
       "      <td>2.0</td>\n",
       "      <td>123.240</td>\n",
       "      <td>175.871</td>\n",
       "      <td>78.240</td>\n",
       "      <td>1.0</td>\n",
       "      <td>2</td>\n",
       "    </tr>\n",
       "    <tr>\n",
       "      <th>2038</th>\n",
       "      <td>62.441</td>\n",
       "      <td>0.0</td>\n",
       "      <td>78.876</td>\n",
       "      <td>76.435</td>\n",
       "      <td>96.435</td>\n",
       "      <td>0.0</td>\n",
       "      <td>0</td>\n",
       "    </tr>\n",
       "  </tbody>\n",
       "</table>\n",
       "<p>2039 rows × 7 columns</p>\n",
       "</div>"
      ],
      "text/plain": [
       "      Distance  Pressure      HRV  Sugar level    SpO2  Accelerometer  \\\n",
       "0       25.540       1.0  101.396       61.080  87.770            1.0   \n",
       "1        2.595       2.0  110.190       20.207  65.190            1.0   \n",
       "2       68.067       0.0   87.412       79.345  99.345            0.0   \n",
       "3       13.090       1.0   92.266       36.180  81.545            1.0   \n",
       "4       69.430       0.0   89.480       80.000  99.990            0.0   \n",
       "...        ...       ...      ...          ...     ...            ...   \n",
       "2034     5.655       2.0  116.310      162.242  71.310            1.0   \n",
       "2035     9.660       2.0  124.320      177.995  79.320            1.0   \n",
       "2036    15.220       1.0   93.828       40.440  82.610            1.0   \n",
       "2037     9.120       2.0  123.240      175.871  78.240            1.0   \n",
       "2038    62.441       0.0   78.876       76.435  96.435            0.0   \n",
       "\n",
       "      Decision   \n",
       "0             1  \n",
       "1             2  \n",
       "2             0  \n",
       "3             1  \n",
       "4             0  \n",
       "...         ...  \n",
       "2034          2  \n",
       "2035          2  \n",
       "2036          1  \n",
       "2037          2  \n",
       "2038          0  \n",
       "\n",
       "[2039 rows x 7 columns]"
      ]
     },
     "execution_count": 2,
     "metadata": {},
     "output_type": "execute_result"
    }
   ],
   "source": [
    "# Read in Data\n",
    "df_Cstick = pd.read_csv('/kaggle/input/cStick.csv')\n",
    "df_Cstick"
   ]
  },
  {
   "cell_type": "markdown",
   "id": "9d8aa8f9",
   "metadata": {
    "papermill": {
     "duration": 0.006025,
     "end_time": "2024-05-18T00:56:07.975827",
     "exception": false,
     "start_time": "2024-05-18T00:56:07.969802",
     "status": "completed"
    },
    "tags": []
   },
   "source": [
    "## Summary of labels:\n",
    "Label = 'Decision' column\n",
    " \n",
    "Label Values:\n",
    "* 0 - No Fall detected\n",
    "* 1 - Slip detected\n",
    "*  2 - Definite fall"
   ]
  },
  {
   "cell_type": "code",
   "execution_count": 3,
   "id": "d48587f8",
   "metadata": {
    "execution": {
     "iopub.execute_input": "2024-05-18T00:56:07.990867Z",
     "iopub.status.busy": "2024-05-18T00:56:07.990248Z",
     "iopub.status.idle": "2024-05-18T00:56:07.997355Z",
     "shell.execute_reply": "2024-05-18T00:56:07.996333Z"
    },
    "papermill": {
     "duration": 0.017222,
     "end_time": "2024-05-18T00:56:07.999500",
     "exception": false,
     "start_time": "2024-05-18T00:56:07.982278",
     "status": "completed"
    },
    "tags": []
   },
   "outputs": [
    {
     "data": {
      "text/plain": [
       "['No Fall detected', 'Slip detected', 'Definite fall']"
      ]
     },
     "execution_count": 3,
     "metadata": {},
     "output_type": "execute_result"
    }
   ],
   "source": [
    "outcome_dict = {0:'No Fall detected',1:'Slip detected',2:'Definite fall'}\n",
    "outcome_list = ['No Fall detected','Slip detected','Definite fall']\n",
    "outcome_list"
   ]
  },
  {
   "cell_type": "markdown",
   "id": "b369f2fb",
   "metadata": {
    "papermill": {
     "duration": 0.007307,
     "end_time": "2024-05-18T00:56:08.013310",
     "exception": false,
     "start_time": "2024-05-18T00:56:08.006003",
     "status": "completed"
    },
    "tags": []
   },
   "source": [
    "## Summary of features\n",
    "features ='Distance', 'Pressure', 'HRV', 'Sugar level', 'SpO2', 'Accelerometer'"
   ]
  },
  {
   "cell_type": "code",
   "execution_count": 4,
   "id": "3ef821f8",
   "metadata": {
    "execution": {
     "iopub.execute_input": "2024-05-18T00:56:08.028058Z",
     "iopub.status.busy": "2024-05-18T00:56:08.027380Z",
     "iopub.status.idle": "2024-05-18T00:56:08.034786Z",
     "shell.execute_reply": "2024-05-18T00:56:08.033546Z"
    },
    "papermill": {
     "duration": 0.017247,
     "end_time": "2024-05-18T00:56:08.036947",
     "exception": false,
     "start_time": "2024-05-18T00:56:08.019700",
     "status": "completed"
    },
    "tags": []
   },
   "outputs": [
    {
     "data": {
      "text/plain": [
       "['Distance', 'Pressure', 'HRV', 'Sugar level', 'SpO2', 'Accelerometer']"
      ]
     },
     "execution_count": 4,
     "metadata": {},
     "output_type": "execute_result"
    }
   ],
   "source": [
    "feature_list = ['Distance', 'Pressure', 'HRV', 'Sugar level', 'SpO2', 'Accelerometer']\n",
    "feature_list"
   ]
  },
  {
   "cell_type": "markdown",
   "id": "abc97ffe",
   "metadata": {
    "papermill": {
     "duration": 0.00635,
     "end_time": "2024-05-18T00:56:08.050078",
     "exception": false,
     "start_time": "2024-05-18T00:56:08.043728",
     "status": "completed"
    },
    "tags": []
   },
   "source": [
    "## Features and Labels"
   ]
  },
  {
   "cell_type": "code",
   "execution_count": 5,
   "id": "e440c0df",
   "metadata": {
    "execution": {
     "iopub.execute_input": "2024-05-18T00:56:08.065179Z",
     "iopub.status.busy": "2024-05-18T00:56:08.064805Z",
     "iopub.status.idle": "2024-05-18T00:56:08.071720Z",
     "shell.execute_reply": "2024-05-18T00:56:08.070631Z"
    },
    "papermill": {
     "duration": 0.016795,
     "end_time": "2024-05-18T00:56:08.073862",
     "exception": false,
     "start_time": "2024-05-18T00:56:08.057067",
     "status": "completed"
    },
    "tags": []
   },
   "outputs": [
    {
     "data": {
      "text/plain": [
       "Index(['Distance', 'Pressure', 'HRV', 'Sugar level', 'SpO2', 'Accelerometer',\n",
       "       'Decision '],\n",
       "      dtype='object')"
      ]
     },
     "execution_count": 5,
     "metadata": {},
     "output_type": "execute_result"
    }
   ],
   "source": [
    "df_Cstick_all_cols = df_Cstick.columns\n",
    "df_Cstick_all_cols"
   ]
  },
  {
   "cell_type": "code",
   "execution_count": 6,
   "id": "bbb9bf28",
   "metadata": {
    "execution": {
     "iopub.execute_input": "2024-05-18T00:56:08.089333Z",
     "iopub.status.busy": "2024-05-18T00:56:08.088724Z",
     "iopub.status.idle": "2024-05-18T00:56:08.097571Z",
     "shell.execute_reply": "2024-05-18T00:56:08.096432Z"
    },
    "papermill": {
     "duration": 0.019071,
     "end_time": "2024-05-18T00:56:08.099719",
     "exception": false,
     "start_time": "2024-05-18T00:56:08.080648",
     "status": "completed"
    },
    "tags": []
   },
   "outputs": [
    {
     "data": {
      "text/plain": [
       "array([[ 25.54 ,   1.   , 101.396,  61.08 ,  87.77 ,   1.   ],\n",
       "       [  2.595,   2.   , 110.19 ,  20.207,  65.19 ,   1.   ],\n",
       "       [ 68.067,   0.   ,  87.412,  79.345,  99.345,   0.   ],\n",
       "       ...,\n",
       "       [ 15.22 ,   1.   ,  93.828,  40.44 ,  82.61 ,   1.   ],\n",
       "       [  9.12 ,   2.   , 123.24 , 175.871,  78.24 ,   1.   ],\n",
       "       [ 62.441,   0.   ,  78.876,  76.435,  96.435,   0.   ]])"
      ]
     },
     "execution_count": 6,
     "metadata": {},
     "output_type": "execute_result"
    }
   ],
   "source": [
    "# convert to float (if not already float)\n",
    "df_Cstick1 = df_Cstick.astype(float)\n",
    "\n",
    "# convert to numpy arrary\n",
    "C = df_Cstick1.to_numpy()\n",
    "\n",
    "# Get features and labels\n",
    "features = C[:,0:6]\n",
    "labels = C[:,-1] # or C[:,6]\n",
    "\n",
    "features"
   ]
  },
  {
   "cell_type": "code",
   "execution_count": 7,
   "id": "a5f0ec49",
   "metadata": {
    "execution": {
     "iopub.execute_input": "2024-05-18T00:56:08.115451Z",
     "iopub.status.busy": "2024-05-18T00:56:08.115067Z",
     "iopub.status.idle": "2024-05-18T00:56:08.121674Z",
     "shell.execute_reply": "2024-05-18T00:56:08.120761Z"
    },
    "papermill": {
     "duration": 0.017215,
     "end_time": "2024-05-18T00:56:08.123770",
     "exception": false,
     "start_time": "2024-05-18T00:56:08.106555",
     "status": "completed"
    },
    "tags": []
   },
   "outputs": [],
   "source": [
    "# Scramble the order of all the rows in the data to remove (potential) dependence on on its ordering \n",
    "# This makes our model more generalizable/robust\n",
    "indices = np.random.permutation(len(labels)) \n",
    "\n",
    "# we scramble both X and y, necessarily with the same permutation. Use the same indices arragangement( otherwise we are doooomed!!)\n",
    "X = features[indices]\n",
    "y = labels[indices]"
   ]
  },
  {
   "cell_type": "markdown",
   "id": "6365d08a",
   "metadata": {
    "papermill": {
     "duration": 0.006574,
     "end_time": "2024-05-18T00:56:08.137416",
     "exception": false,
     "start_time": "2024-05-18T00:56:08.130842",
     "status": "completed"
    },
    "tags": []
   },
   "source": [
    "# **Section 2**\n",
    "### <font color = red>Your Turn: Implement the following tasks"
   ]
  },
  {
   "cell_type": "markdown",
   "id": "8b87e0c6",
   "metadata": {
    "papermill": {
     "duration": 0.00646,
     "end_time": "2024-05-18T00:56:08.150825",
     "exception": false,
     "start_time": "2024-05-18T00:56:08.144365",
     "status": "completed"
    },
    "tags": []
   },
   "source": [
    "## Training and testing data\n",
    "### Split the data into training data and test data. Use test_size of 0.2"
   ]
  },
  {
   "cell_type": "code",
   "execution_count": 8,
   "id": "45e0f4df",
   "metadata": {
    "execution": {
     "iopub.execute_input": "2024-05-18T00:56:08.167093Z",
     "iopub.status.busy": "2024-05-18T00:56:08.166245Z",
     "iopub.status.idle": "2024-05-18T00:56:09.364616Z",
     "shell.execute_reply": "2024-05-18T00:56:09.363296Z"
    },
    "papermill": {
     "duration": 1.209455,
     "end_time": "2024-05-18T00:56:09.367125",
     "exception": false,
     "start_time": "2024-05-18T00:56:08.157670",
     "status": "completed"
    },
    "tags": []
   },
   "outputs": [
    {
     "name": "stdout",
     "output_type": "stream",
     "text": [
      "Training features shape: (1631, 6)\n",
      "Testing features shape: (408, 6)\n",
      "Training labels shape: (1631,)\n",
      "Testing labels shape: (408,)\n"
     ]
    }
   ],
   "source": [
    "# Implement your code here\n",
    "\n",
    "# Training and testing data\n",
    "# Split the data into training data and test data. Use test_size of 0.2\n",
    "from sklearn.model_selection import train_test_split\n",
    "X_train, X_test, y_train, y_test = train_test_split(X, y, test_size=0.2, random_state=42)\n",
    "\n",
    "# Display shapes of training and testing sets\n",
    "print(f\"Training features shape: {X_train.shape}\")\n",
    "print(f\"Testing features shape: {X_test.shape}\")\n",
    "print(f\"Training labels shape: {y_train.shape}\")\n",
    "print(f\"Testing labels shape: {y_test.shape}\")"
   ]
  },
  {
   "cell_type": "markdown",
   "id": "5dd8d2b3",
   "metadata": {
    "papermill": {
     "duration": 0.006622,
     "end_time": "2024-05-18T00:56:09.380819",
     "exception": false,
     "start_time": "2024-05-18T00:56:09.374197",
     "status": "completed"
    },
    "tags": []
   },
   "source": [
    "## Modelling"
   ]
  },
  {
   "cell_type": "markdown",
   "id": "ceb1c792",
   "metadata": {
    "papermill": {
     "duration": 0.006639,
     "end_time": "2024-05-18T00:56:09.394675",
     "exception": false,
     "start_time": "2024-05-18T00:56:09.388036",
     "status": "completed"
    },
    "tags": []
   },
   "source": [
    "1a. SVM\n",
    "Create and fit your SVM Model to the data\n",
    "### 1a. SVM\n",
    "### Create and fit your SVM Model to the data"
   ]
  },
  {
   "cell_type": "code",
   "execution_count": 9,
   "id": "403c3c42",
   "metadata": {
    "execution": {
     "iopub.execute_input": "2024-05-18T00:56:09.411125Z",
     "iopub.status.busy": "2024-05-18T00:56:09.410201Z",
     "iopub.status.idle": "2024-05-18T00:56:09.535641Z",
     "shell.execute_reply": "2024-05-18T00:56:09.534064Z"
    },
    "papermill": {
     "duration": 0.136154,
     "end_time": "2024-05-18T00:56:09.538071",
     "exception": false,
     "start_time": "2024-05-18T00:56:09.401917",
     "status": "completed"
    },
    "tags": []
   },
   "outputs": [
    {
     "name": "stdout",
     "output_type": "stream",
     "text": [
      "SVM Accuracy Score:\n",
      "1.0\n",
      "\n",
      "SVM Classification Report:\n",
      "                  precision    recall  f1-score   support\n",
      "\n",
      "No Fall detected       1.00      1.00      1.00       137\n",
      "   Slip detected       1.00      1.00      1.00       133\n",
      "   Definite fall       1.00      1.00      1.00       138\n",
      "\n",
      "        accuracy                           1.00       408\n",
      "       macro avg       1.00      1.00      1.00       408\n",
      "    weighted avg       1.00      1.00      1.00       408\n",
      "\n"
     ]
    }
   ],
   "source": [
    "# Implement your code here\n",
    "\n",
    "# SVM Model\n",
    "# Create and fit the SVM model to the data\n",
    "from sklearn.svm import SVC\n",
    "from sklearn.metrics import accuracy_score, classification_report\n",
    "\n",
    "svm_model = SVC(kernel='linear', random_state=42)\n",
    "svm_model.fit(X_train, y_train)\n",
    "\n",
    "# Evaluate the SVM model\n",
    "y_pred_svm = svm_model.predict(X_test)\n",
    "\n",
    "print(\"SVM Accuracy Score:\")\n",
    "print(accuracy_score(y_test, y_pred_svm))\n",
    "\n",
    "print(\"\\nSVM Classification Report:\")\n",
    "print(classification_report(y_test, y_pred_svm, target_names=outcome_list))"
   ]
  },
  {
   "cell_type": "markdown",
   "id": "39dab72d",
   "metadata": {
    "papermill": {
     "duration": 0.007267,
     "end_time": "2024-05-18T00:56:09.552933",
     "exception": false,
     "start_time": "2024-05-18T00:56:09.545666",
     "status": "completed"
    },
    "tags": []
   },
   "source": [
    "### 1b. Prediction\n",
    "### Implement predictions on how well your SVM model performs using the accuracy metric"
   ]
  },
  {
   "cell_type": "code",
   "execution_count": 10,
   "id": "ce531cca",
   "metadata": {
    "execution": {
     "iopub.execute_input": "2024-05-18T00:56:09.569828Z",
     "iopub.status.busy": "2024-05-18T00:56:09.569066Z",
     "iopub.status.idle": "2024-05-18T00:56:09.585132Z",
     "shell.execute_reply": "2024-05-18T00:56:09.583672Z"
    },
    "papermill": {
     "duration": 0.027363,
     "end_time": "2024-05-18T00:56:09.587346",
     "exception": false,
     "start_time": "2024-05-18T00:56:09.559983",
     "status": "completed"
    },
    "tags": []
   },
   "outputs": [
    {
     "name": "stdout",
     "output_type": "stream",
     "text": [
      "The accuracy of the SVM Model is: 1.0\n",
      "\n",
      "SVM Classification Report:\n",
      "                  precision    recall  f1-score   support\n",
      "\n",
      "No Fall detected       1.00      1.00      1.00       137\n",
      "   Slip detected       1.00      1.00      1.00       133\n",
      "   Definite fall       1.00      1.00      1.00       138\n",
      "\n",
      "        accuracy                           1.00       408\n",
      "       macro avg       1.00      1.00      1.00       408\n",
      "    weighted avg       1.00      1.00      1.00       408\n",
      "\n"
     ]
    }
   ],
   "source": [
    "# Implement your code here\n",
    "\n",
    "# Prediction\n",
    "# Implement predictions and evaluate performance using accuracy metric\n",
    "\n",
    "# Predict using the SVM model\n",
    "y_pred_svm = svm_model.predict(X_test)\n",
    "\n",
    "# Evaluate the SVM model using accuracy metric\n",
    "svm_accuracy = accuracy_score(y_test, y_pred_svm)\n",
    "\n",
    "# Print the accuracy of the SVM model\n",
    "print('The accuracy of the SVM Model is:', svm_accuracy)\n",
    "\n",
    "print(\"\\nSVM Classification Report:\")\n",
    "print(classification_report(y_test, y_pred_svm, target_names=outcome_list))"
   ]
  },
  {
   "cell_type": "markdown",
   "id": "53328ae8",
   "metadata": {
    "papermill": {
     "duration": 0.00714,
     "end_time": "2024-05-18T00:56:09.602511",
     "exception": false,
     "start_time": "2024-05-18T00:56:09.595371",
     "status": "completed"
    },
    "tags": []
   },
   "source": [
    "### 2a. Logistic Regression\n",
    "### Create and fit your Logistic Regression Model to the data"
   ]
  },
  {
   "cell_type": "code",
   "execution_count": 11,
   "id": "d8d7a1f1",
   "metadata": {
    "execution": {
     "iopub.execute_input": "2024-05-18T00:56:09.619946Z",
     "iopub.status.busy": "2024-05-18T00:56:09.619439Z",
     "iopub.status.idle": "2024-05-18T00:56:09.706484Z",
     "shell.execute_reply": "2024-05-18T00:56:09.705353Z"
    },
    "papermill": {
     "duration": 0.098704,
     "end_time": "2024-05-18T00:56:09.708803",
     "exception": false,
     "start_time": "2024-05-18T00:56:09.610099",
     "status": "completed"
    },
    "tags": []
   },
   "outputs": [
    {
     "data": {
      "text/html": [
       "<style>#sk-container-id-1 {color: black;background-color: white;}#sk-container-id-1 pre{padding: 0;}#sk-container-id-1 div.sk-toggleable {background-color: white;}#sk-container-id-1 label.sk-toggleable__label {cursor: pointer;display: block;width: 100%;margin-bottom: 0;padding: 0.3em;box-sizing: border-box;text-align: center;}#sk-container-id-1 label.sk-toggleable__label-arrow:before {content: \"▸\";float: left;margin-right: 0.25em;color: #696969;}#sk-container-id-1 label.sk-toggleable__label-arrow:hover:before {color: black;}#sk-container-id-1 div.sk-estimator:hover label.sk-toggleable__label-arrow:before {color: black;}#sk-container-id-1 div.sk-toggleable__content {max-height: 0;max-width: 0;overflow: hidden;text-align: left;background-color: #f0f8ff;}#sk-container-id-1 div.sk-toggleable__content pre {margin: 0.2em;color: black;border-radius: 0.25em;background-color: #f0f8ff;}#sk-container-id-1 input.sk-toggleable__control:checked~div.sk-toggleable__content {max-height: 200px;max-width: 100%;overflow: auto;}#sk-container-id-1 input.sk-toggleable__control:checked~label.sk-toggleable__label-arrow:before {content: \"▾\";}#sk-container-id-1 div.sk-estimator input.sk-toggleable__control:checked~label.sk-toggleable__label {background-color: #d4ebff;}#sk-container-id-1 div.sk-label input.sk-toggleable__control:checked~label.sk-toggleable__label {background-color: #d4ebff;}#sk-container-id-1 input.sk-hidden--visually {border: 0;clip: rect(1px 1px 1px 1px);clip: rect(1px, 1px, 1px, 1px);height: 1px;margin: -1px;overflow: hidden;padding: 0;position: absolute;width: 1px;}#sk-container-id-1 div.sk-estimator {font-family: monospace;background-color: #f0f8ff;border: 1px dotted black;border-radius: 0.25em;box-sizing: border-box;margin-bottom: 0.5em;}#sk-container-id-1 div.sk-estimator:hover {background-color: #d4ebff;}#sk-container-id-1 div.sk-parallel-item::after {content: \"\";width: 100%;border-bottom: 1px solid gray;flex-grow: 1;}#sk-container-id-1 div.sk-label:hover label.sk-toggleable__label {background-color: #d4ebff;}#sk-container-id-1 div.sk-serial::before {content: \"\";position: absolute;border-left: 1px solid gray;box-sizing: border-box;top: 0;bottom: 0;left: 50%;z-index: 0;}#sk-container-id-1 div.sk-serial {display: flex;flex-direction: column;align-items: center;background-color: white;padding-right: 0.2em;padding-left: 0.2em;position: relative;}#sk-container-id-1 div.sk-item {position: relative;z-index: 1;}#sk-container-id-1 div.sk-parallel {display: flex;align-items: stretch;justify-content: center;background-color: white;position: relative;}#sk-container-id-1 div.sk-item::before, #sk-container-id-1 div.sk-parallel-item::before {content: \"\";position: absolute;border-left: 1px solid gray;box-sizing: border-box;top: 0;bottom: 0;left: 50%;z-index: -1;}#sk-container-id-1 div.sk-parallel-item {display: flex;flex-direction: column;z-index: 1;position: relative;background-color: white;}#sk-container-id-1 div.sk-parallel-item:first-child::after {align-self: flex-end;width: 50%;}#sk-container-id-1 div.sk-parallel-item:last-child::after {align-self: flex-start;width: 50%;}#sk-container-id-1 div.sk-parallel-item:only-child::after {width: 0;}#sk-container-id-1 div.sk-dashed-wrapped {border: 1px dashed gray;margin: 0 0.4em 0.5em 0.4em;box-sizing: border-box;padding-bottom: 0.4em;background-color: white;}#sk-container-id-1 div.sk-label label {font-family: monospace;font-weight: bold;display: inline-block;line-height: 1.2em;}#sk-container-id-1 div.sk-label-container {text-align: center;}#sk-container-id-1 div.sk-container {/* jupyter's `normalize.less` sets `[hidden] { display: none; }` but bootstrap.min.css set `[hidden] { display: none !important; }` so we also need the `!important` here to be able to override the default hidden behavior on the sphinx rendered scikit-learn.org. See: https://github.com/scikit-learn/scikit-learn/issues/21755 */display: inline-block !important;position: relative;}#sk-container-id-1 div.sk-text-repr-fallback {display: none;}</style><div id=\"sk-container-id-1\" class=\"sk-top-container\"><div class=\"sk-text-repr-fallback\"><pre>LogisticRegression(max_iter=10000, random_state=42)</pre><b>In a Jupyter environment, please rerun this cell to show the HTML representation or trust the notebook. <br />On GitHub, the HTML representation is unable to render, please try loading this page with nbviewer.org.</b></div><div class=\"sk-container\" hidden><div class=\"sk-item\"><div class=\"sk-estimator sk-toggleable\"><input class=\"sk-toggleable__control sk-hidden--visually\" id=\"sk-estimator-id-1\" type=\"checkbox\" checked><label for=\"sk-estimator-id-1\" class=\"sk-toggleable__label sk-toggleable__label-arrow\">LogisticRegression</label><div class=\"sk-toggleable__content\"><pre>LogisticRegression(max_iter=10000, random_state=42)</pre></div></div></div></div></div>"
      ],
      "text/plain": [
       "LogisticRegression(max_iter=10000, random_state=42)"
      ]
     },
     "execution_count": 11,
     "metadata": {},
     "output_type": "execute_result"
    }
   ],
   "source": [
    "# Implement your code here\n",
    "\n",
    "# Logistic Regression Model\n",
    "# Create and fit the Logistic Regression model to the data\n",
    "from sklearn.linear_model import LogisticRegression\n",
    "\n",
    "log_reg_model = LogisticRegression(random_state=42, max_iter=10000)\n",
    "log_reg_model.fit(X_train, y_train)"
   ]
  },
  {
   "cell_type": "markdown",
   "id": "cfd5b720",
   "metadata": {
    "papermill": {
     "duration": 0.007518,
     "end_time": "2024-05-18T00:56:09.724304",
     "exception": false,
     "start_time": "2024-05-18T00:56:09.716786",
     "status": "completed"
    },
    "tags": []
   },
   "source": []
  },
  {
   "cell_type": "markdown",
   "id": "aade0f6b",
   "metadata": {
    "papermill": {
     "duration": 0.007439,
     "end_time": "2024-05-18T00:56:09.739564",
     "exception": false,
     "start_time": "2024-05-18T00:56:09.732125",
     "status": "completed"
    },
    "tags": []
   },
   "source": [
    "### 2b. Prediction\n",
    "### Implement predictions on how well your Logistic Regression model performs using the accuracy metric"
   ]
  },
  {
   "cell_type": "code",
   "execution_count": 12,
   "id": "2aa43e97",
   "metadata": {
    "execution": {
     "iopub.execute_input": "2024-05-18T00:56:09.757732Z",
     "iopub.status.busy": "2024-05-18T00:56:09.757251Z",
     "iopub.status.idle": "2024-05-18T00:56:09.773462Z",
     "shell.execute_reply": "2024-05-18T00:56:09.771945Z"
    },
    "papermill": {
     "duration": 0.028799,
     "end_time": "2024-05-18T00:56:09.776296",
     "exception": false,
     "start_time": "2024-05-18T00:56:09.747497",
     "status": "completed"
    },
    "tags": []
   },
   "outputs": [
    {
     "name": "stdout",
     "output_type": "stream",
     "text": [
      "The accuracy of the Logistic Regression Model is: 1.0\n",
      "\n",
      "Logistic Regression Classification Report:\n",
      "                  precision    recall  f1-score   support\n",
      "\n",
      "No Fall detected       1.00      1.00      1.00       137\n",
      "   Slip detected       1.00      1.00      1.00       133\n",
      "   Definite fall       1.00      1.00      1.00       138\n",
      "\n",
      "        accuracy                           1.00       408\n",
      "       macro avg       1.00      1.00      1.00       408\n",
      "    weighted avg       1.00      1.00      1.00       408\n",
      "\n"
     ]
    }
   ],
   "source": [
    "# Implement your code here\n",
    "\n",
    "# Prediction\n",
    "# Implement predictions and evaluate performance using accuracy metric\n",
    "\n",
    "# Predict using the Logistic Regression model\n",
    "y_pred_log_reg = log_reg_model.predict(X_test)\n",
    "\n",
    "# Evaluate the Logistic Regression model using accuracy metric\n",
    "log_reg_accuracy = accuracy_score(y_test, y_pred_log_reg)\n",
    "\n",
    "# Print the accuracy of the Logistic Regression model\n",
    "print('The accuracy of the Logistic Regression Model is:', log_reg_accuracy)\n",
    "\n",
    "print(\"\\nLogistic Regression Classification Report:\")\n",
    "print(classification_report(y_test, y_pred_log_reg, target_names=outcome_list))"
   ]
  },
  {
   "cell_type": "markdown",
   "id": "5080af18",
   "metadata": {
    "papermill": {
     "duration": 0.00711,
     "end_time": "2024-05-18T00:56:09.790898",
     "exception": false,
     "start_time": "2024-05-18T00:56:09.783788",
     "status": "completed"
    },
    "tags": []
   },
   "source": [
    "## Questions\n",
    "### 1. Which model had a better performance? <font color=green>[Answer here]</font>\n",
    "### 2. Why do you think the model performed better? <font color=green>[Answer here]</font>\n",
    "### 3. List 4 things that could be done to improve the performance of any of these models ? <font color=green>[Answer here]</font>\n",
    "\n"
   ]
  },
  {
   "cell_type": "markdown",
   "id": "b7a81d67",
   "metadata": {
    "papermill": {
     "duration": 0.00776,
     "end_time": "2024-05-18T00:56:09.807537",
     "exception": false,
     "start_time": "2024-05-18T00:56:09.799777",
     "status": "completed"
    },
    "tags": []
   },
   "source": []
  }
 ],
 "metadata": {
  "kaggle": {
   "accelerator": "none",
   "dataSources": [
    {
     "datasetId": 1936314,
     "sourceId": 3188688,
     "sourceType": "datasetVersion"
    }
   ],
   "dockerImageVersionId": 30698,
   "isGpuEnabled": false,
   "isInternetEnabled": false,
   "language": "python",
   "sourceType": "notebook"
  },
  "kernelspec": {
   "display_name": "Python 3",
   "language": "python",
   "name": "python3"
  },
  "language_info": {
   "codemirror_mode": {
    "name": "ipython",
    "version": 3
   },
   "file_extension": ".py",
   "mimetype": "text/x-python",
   "name": "python",
   "nbconvert_exporter": "python",
   "pygments_lexer": "ipython3",
   "version": "3.10.13"
  },
  "papermill": {
   "default_parameters": {},
   "duration": 6.19937,
   "end_time": "2024-05-18T00:56:10.435352",
   "environment_variables": {},
   "exception": null,
   "input_path": "__notebook__.ipynb",
   "output_path": "__notebook__.ipynb",
   "parameters": {},
   "start_time": "2024-05-18T00:56:04.235982",
   "version": "2.5.0"
  }
 },
 "nbformat": 4,
 "nbformat_minor": 5
}
